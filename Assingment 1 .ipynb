{
 "cells": [
  {
   "cell_type": "markdown",
   "id": "6d87d3df-6822-4577-9f28-3797bbc10239",
   "metadata": {},
   "source": [
    "Q1. Which keyword is used to create a function? Create a function to return a list of odd numbers in the\n",
    "range of 1 to 25.\n"
   ]
  },
  {
   "cell_type": "code",
   "execution_count": 23,
   "id": "849b30ba-31d7-446e-9a88-5ee129cd36d7",
   "metadata": {},
   "outputs": [],
   "source": [
    "# We can use keyword filter to create function to return a list of odd no range of 1 to 25 \n",
    "\n",
    "l = [1,2,3,4,5,6,7,8,9,10,11,12,13,14,15,16,17,18,19,20,21,22,23,24,25]"
   ]
  },
  {
   "cell_type": "code",
   "execution_count": 29,
   "id": "c492d8d4-b975-4f93-be90-f55f3b1644fc",
   "metadata": {},
   "outputs": [
    {
     "data": {
      "text/plain": [
       "[1, 3, 5, 7, 9, 11, 13, 15, 17, 19, 21, 23, 25]"
      ]
     },
     "execution_count": 29,
     "metadata": {},
     "output_type": "execute_result"
    }
   ],
   "source": [
    "list(filter(lambda x: x%2 !=0 ,l ))"
   ]
  },
  {
   "cell_type": "markdown",
   "id": "cfcff4ac-f047-45b6-b97a-acbbd877a5be",
   "metadata": {},
   "source": [
    "Q2. Why *args and **kwargs is used in some functions? Create a function each for *args and **kwargs\n",
    "to demonstrate their use."
   ]
  },
  {
   "cell_type": "code",
   "execution_count": 30,
   "id": "1fd527a7-dd2c-4c57-ae25-bc14dc811a09",
   "metadata": {},
   "outputs": [],
   "source": [
    "#the *args allows function to accept any number , which will give an output as a tuple type  \n",
    "#the **kwargs allows function to accept any number , which will give an output as a dictionary type\n",
    "\n",
    "def test_args(*args):\n",
    "    return args"
   ]
  },
  {
   "cell_type": "code",
   "execution_count": 31,
   "id": "6850cde8-fd68-4f01-9f30-4659d7e41dc3",
   "metadata": {},
   "outputs": [
    {
     "data": {
      "text/plain": [
       "(1, 2, 3)"
      ]
     },
     "execution_count": 31,
     "metadata": {},
     "output_type": "execute_result"
    }
   ],
   "source": [
    "test_args(1,2,3)"
   ]
  },
  {
   "cell_type": "code",
   "execution_count": 32,
   "id": "e878d842-e70d-48d9-9493-a522f13a35b1",
   "metadata": {},
   "outputs": [],
   "source": [
    "def test_kwargs(**kwargs):\n",
    "    return kwargs"
   ]
  },
  {
   "cell_type": "code",
   "execution_count": 33,
   "id": "7b9e594d-8485-4711-870b-2f2c4ac815d5",
   "metadata": {},
   "outputs": [
    {
     "data": {
      "text/plain": [
       "{'a': 1, 'b': 34.44, 'c': 'Pratik'}"
      ]
     },
     "execution_count": 33,
     "metadata": {},
     "output_type": "execute_result"
    }
   ],
   "source": [
    "test_kwargs(a=1, b=34.44, c=\"Pratik\")"
   ]
  },
  {
   "cell_type": "markdown",
   "id": "ebede674-f614-49d5-bb65-7ffb51425801",
   "metadata": {},
   "source": [
    "Q3. What is an iterator in python? Name the method used to initialise the iterator object and the method\n",
    "used for iteration. Use these methods to print the first five elements of the given list [2, 4, 6, 8, 10, 12, 14,\n",
    "16, 18, 20]."
   ]
  },
  {
   "cell_type": "code",
   "execution_count": 1,
   "id": "5b75f39e-ea63-4a01-87a3-f222265e8c4e",
   "metadata": {},
   "outputs": [],
   "source": [
    "l3 = [2, 4, 6, 8, 10, 12, 14,16, 18, 20]"
   ]
  },
  {
   "cell_type": "code",
   "execution_count": 8,
   "id": "1eb8c6fe-9b62-44b9-8b99-fb4d9c0ed885",
   "metadata": {},
   "outputs": [
    {
     "name": "stdout",
     "output_type": "stream",
     "text": [
      "2\n",
      "4\n",
      "6\n",
      "8\n",
      "10\n"
     ]
    }
   ],
   "source": [
    "l6 = iter(l3)\n",
    "for i in range(5):\n",
    "    x=next(l6)\n",
    "    print(x)"
   ]
  },
  {
   "cell_type": "markdown",
   "id": "1cb1d3fa-c673-49ef-8bab-b3c980c9672c",
   "metadata": {},
   "source": [
    "Q4. What is a generator function in python? Why yield keyword is used? Give an example of a generator function."
   ]
  },
  {
   "cell_type": "code",
   "execution_count": 50,
   "id": "c8e067de-c523-4eb1-8f1b-5cd8fe528688",
   "metadata": {},
   "outputs": [],
   "source": [
    "# in genration function yield is used to throw value 1 by 1 from the given data to satify the given condition \n",
    "\n",
    "def count_test(n):\n",
    "    count = 1 \n",
    "    while count <= n :\n",
    "        yield count\n",
    "        count = count + 2"
   ]
  },
  {
   "cell_type": "code",
   "execution_count": 52,
   "id": "4de1cdcd-19f1-47ad-b7bc-f533f30816be",
   "metadata": {},
   "outputs": [],
   "source": [
    "c=count_test(10)"
   ]
  },
  {
   "cell_type": "code",
   "execution_count": 53,
   "id": "8511c601-cbcf-4c9e-bb0e-660e24e8e627",
   "metadata": {},
   "outputs": [
    {
     "name": "stdout",
     "output_type": "stream",
     "text": [
      "1\n",
      "3\n",
      "5\n",
      "7\n",
      "9\n"
     ]
    }
   ],
   "source": [
    "for i in c :\n",
    "    print(i)"
   ]
  },
  {
   "cell_type": "markdown",
   "id": "88d3b551-1d49-4ae7-918f-1356aeb1b9f7",
   "metadata": {},
   "source": [
    "Q5. Create a generator function for prime numbers less than 1000. Use the next() method to print the\n",
    "first 20 prime numbers."
   ]
  },
  {
   "cell_type": "code",
   "execution_count": null,
   "id": "e1ad277f-5a63-4cdd-823e-52e4c96e656e",
   "metadata": {},
   "outputs": [],
   "source": [
    "def generate_primes():\n",
    "    primes = []\n",
    "    num = 2\n",
    "    while True:\n",
    "        if all(num % prime != 0 for prime in primes):\n",
    "            yield num\n",
    "            primes.append(num)\n",
    "        num += 1\n",
    "\n",
    "# Create the generator object\n",
    "prime_generator = generate_primes()\n",
    "\n",
    "# Print the first 20 prime numbers\n",
    "for _ in range(20):\n",
    "    prime = next(prime_generator)\n",
    "    print(prime)\n"
   ]
  },
  {
   "cell_type": "code",
   "execution_count": 6,
   "id": "a304fc11-c129-4308-81df-25cc7686de06",
   "metadata": {},
   "outputs": [
    {
     "name": "stdout",
     "output_type": "stream",
     "text": [
      "2\n",
      "3\n",
      "5\n",
      "7\n",
      "11\n",
      "13\n",
      "17\n",
      "19\n",
      "23\n",
      "29\n",
      "31\n",
      "37\n",
      "41\n",
      "43\n",
      "47\n",
      "53\n",
      "59\n",
      "61\n",
      "67\n",
      "71\n"
     ]
    }
   ],
   "source": [
    "def test_prime():\n",
    "    lprime=[]\n",
    "    x=2\n",
    "    while True:\n",
    "        if all(x % prime != 0 for prime in lprime):\n",
    "            yield x\n",
    "            lprime.append(x)\n",
    "        x += 1\n",
    "        \n",
    "Prime_20 = test_prime()\n",
    "\n",
    "for i in range(20):\n",
    "    Prime=next(Prime_20)\n",
    "    print(Prime)\n",
    "        "
   ]
  },
  {
   "cell_type": "markdown",
   "id": "5851cc90-975f-488e-a698-9a697dcba853",
   "metadata": {},
   "source": [
    "Q6. Write a python program to print the first 10 Fibonacci numbers using a while loop."
   ]
  },
  {
   "cell_type": "code",
   "execution_count": 7,
   "id": "d45c5c43-3cb0-46f1-9d6a-0588ba1df88d",
   "metadata": {},
   "outputs": [],
   "source": [
    "def test_fib(n):\n",
    "    a,b = 0,1\n",
    "    for i in range(n):\n",
    "        yield a \n",
    "        a,b = b , a+b"
   ]
  },
  {
   "cell_type": "code",
   "execution_count": 8,
   "id": "d2b2344a-4631-46f2-ac4b-47152b17f6ef",
   "metadata": {},
   "outputs": [
    {
     "name": "stdout",
     "output_type": "stream",
     "text": [
      "0\n",
      "1\n",
      "1\n",
      "2\n",
      "3\n",
      "5\n",
      "8\n",
      "13\n",
      "21\n",
      "34\n"
     ]
    }
   ],
   "source": [
    "for i in test_fib(10):\n",
    "    print(i)"
   ]
  },
  {
   "cell_type": "markdown",
   "id": "4a8e9637-ba8f-4c61-a8de-321de7b2c006",
   "metadata": {},
   "source": [
    "Q7. Write a List Comprehension to iterate through the given string: ‘pwskills’.\n",
    "Expected output: ['p', 'w', 's', 'k', 'i', 'l', 'l', 's']"
   ]
  },
  {
   "cell_type": "code",
   "execution_count": 17,
   "id": "1a835bd5-9bce-4b1d-962a-5da72f7d1368",
   "metadata": {},
   "outputs": [],
   "source": [
    "s = 'pwskills'"
   ]
  },
  {
   "cell_type": "code",
   "execution_count": 18,
   "id": "a2dda4e5-ed1e-4d99-bfcc-4598ecaadfd3",
   "metadata": {},
   "outputs": [
    {
     "name": "stdout",
     "output_type": "stream",
     "text": [
      "['p', 'w', 's', 'k', 'i', 'l', 'l', 's']\n"
     ]
    }
   ],
   "source": [
    "l7=[]\n",
    "for i in s:\n",
    "    l7.append(i)\n",
    "print(l7)"
   ]
  },
  {
   "cell_type": "markdown",
   "id": "6bddacd8-f7fb-4b4c-90b0-8d61843a02dd",
   "metadata": {},
   "source": [
    "Q8. Write a python program to check whether a given number is Palindrome or not using a while loop."
   ]
  },
  {
   "cell_type": "code",
   "execution_count": 33,
   "id": "da162fac-4f6b-4b85-ae05-62dbd632d253",
   "metadata": {},
   "outputs": [
    {
     "name": "stdin",
     "output_type": "stream",
     "text": [
      "Enter a number:  22\n"
     ]
    },
    {
     "name": "stdout",
     "output_type": "stream",
     "text": [
      "The number is a palindrome\n"
     ]
    }
   ],
   "source": [
    "\n",
    "n = int(input(\"Enter a number: \"))\n",
    "\n",
    "t = n\n",
    "reverse = 0\n",
    "\n",
    "while t > 0:\n",
    "    remainder = t % 10\n",
    "    reverse = reverse * 10 + remainder\n",
    "    t = t // 10\n",
    "\n",
    "if n == reverse:\n",
    "    print(\"The number is a palindrome\")\n",
    "    \n",
    "else:\n",
    "    print(\"The number is not a palindrome\")\n"
   ]
  },
  {
   "cell_type": "markdown",
   "id": "f497658b-27aa-4571-bb19-2d7370857df9",
   "metadata": {},
   "source": [
    "Q9. Write a code to print odd numbers from 1 to 100 using list comprehension.\n",
    "Note: Use a list comprehension to create a list from 1 to 100 and use another List comprehension to filter\n",
    "out odd numbers."
   ]
  },
  {
   "cell_type": "code",
   "execution_count": 30,
   "id": "7ce11ae6-89a0-47e7-825d-e34937107eea",
   "metadata": {},
   "outputs": [
    {
     "name": "stdout",
     "output_type": "stream",
     "text": [
      "1\n",
      "3\n",
      "5\n",
      "7\n",
      "9\n",
      "11\n",
      "13\n",
      "15\n",
      "17\n",
      "19\n",
      "21\n",
      "23\n",
      "25\n",
      "27\n",
      "29\n",
      "31\n",
      "33\n",
      "35\n",
      "37\n",
      "39\n",
      "41\n",
      "43\n",
      "45\n",
      "47\n",
      "49\n",
      "51\n",
      "53\n",
      "55\n",
      "57\n",
      "59\n",
      "61\n",
      "63\n",
      "65\n",
      "67\n",
      "69\n",
      "71\n",
      "73\n",
      "75\n",
      "77\n",
      "79\n",
      "81\n",
      "83\n",
      "85\n",
      "87\n",
      "89\n",
      "91\n",
      "93\n",
      "95\n",
      "97\n",
      "99\n"
     ]
    }
   ],
   "source": [
    "odd_numb = [num for num in range(1,101) if num % 2 != 0]\n",
    "\n",
    "for i in odd_numb:\n",
    "    print(i)"
   ]
  }
 ],
 "metadata": {
  "kernelspec": {
   "display_name": "Python 3 (ipykernel)",
   "language": "python",
   "name": "python3"
  },
  "language_info": {
   "codemirror_mode": {
    "name": "ipython",
    "version": 3
   },
   "file_extension": ".py",
   "mimetype": "text/x-python",
   "name": "python",
   "nbconvert_exporter": "python",
   "pygments_lexer": "ipython3",
   "version": "3.10.8"
  }
 },
 "nbformat": 4,
 "nbformat_minor": 5
}
